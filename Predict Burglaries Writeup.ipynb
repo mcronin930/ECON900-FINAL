{
 "cells": [
  {
   "cell_type": "markdown",
   "metadata": {},
   "source": [
    "# Econ 900 - Final Exam: Predicting Burglaries in Chicago"
   ]
  },
  {
   "cell_type": "markdown",
   "metadata": {},
   "source": [
    "## Objective:"
   ]
  },
  {
   "cell_type": "markdown",
   "metadata": {},
   "source": [
    "The objective of this task was to use crime data from Chicago's Data Portal (Crimes - 2001 to present) to train a supervised learning model that could predict the occurrence of a crime in Chicago."
   ]
  },
  {
   "cell_type": "code",
   "execution_count": 2,
   "metadata": {},
   "outputs": [
    {
     "name": "stdout",
     "output_type": "stream",
     "text": [
      "6856243\n",
      "THEFT                                288892\n",
      "BATTERY                              249885\n",
      "CRIMINAL DAMAGE                      156209\n",
      "NARCOTICS                            143466\n",
      "OTHER OFFENSE                         85551\n",
      "ASSAULT                               85414\n",
      "BURGLARY                              78371\n",
      "MOTOR VEHICLE THEFT                   63526\n",
      "DECEPTIVE PRACTICE                    54219\n",
      "ROBBERY                               51918\n",
      "CRIMINAL TRESPASS                     39177\n",
      "WEAPONS VIOLATION                     14575\n",
      "PROSTITUTION                          13734\n",
      "PUBLIC PEACE VIOLATION                 9795\n",
      "OFFENSE INVOLVING CHILDREN             9351\n",
      "CRIM SEXUAL ASSAULT                    5734\n",
      "SEX OFFENSE                            5262\n",
      "INTERFERENCE WITH PUBLIC OFFICER       3218\n",
      "GAMBLING                               2930\n",
      "LIQUOR LAW VIOLATION                   2745\n",
      "ARSON                                  2189\n",
      "HOMICIDE                               1935\n",
      "KIDNAPPING                             1351\n",
      "INTIMIDATION                            780\n",
      "STALKING                                717\n",
      "OBSCENITY                               122\n",
      "CONCEALED CARRY LICENSE VIOLATION        65\n",
      "NON-CRIMINAL                             43\n",
      "OTHER NARCOTIC VIOLATION                 28\n",
      "PUBLIC INDECENCY                         22\n",
      "HUMAN TRAFFICKING                        11\n",
      "RITUALISM                                 4\n",
      "NON-CRIMINAL (SUBJECT SPECIFIED)          4\n",
      "NON - CRIMINAL                            4\n",
      "Name: Primary_Type, dtype: int64\n"
     ]
    }
   ],
   "source": [
    "from sklearn import linear_model\n",
    "import pandas as pd\n",
    "import random\n",
    "\n",
    "# The data to load\n",
    "f = \"crime_data/Crimes_-_2001_to_present.csv\"\n",
    "\n",
    "# Code to load random sample of .csv\n",
    "num_lines = sum(1 for l in open(f))\n",
    "print(num_lines)\n",
    "# Sample size - in this case ~20% - Anymore than this I run into memory issues\n",
    "size = int(num_lines / 5)\n",
    "skip_idx = random.sample(range(1, num_lines), num_lines - size)\n",
    "\n",
    "# Read the data\n",
    "## According to Chicago Data Portal, 'Community Areas' is current. I am going to remove 'Community Area'.\n",
    "drops = ['Case Number', 'Block',  'Description',  'Location Description', 'Updated On', 'Community Area']\n",
    "data = pd.read_csv(f, skiprows=skip_idx).drop(drops, axis=1)\n",
    "data.columns = ['ID','Date','IUCR',\n",
    "                     'Primary_Type','Arrest','Domestic', 'Beat', 'District',\n",
    "                     'Ward', 'FBI_Code', 'X_Coordinate', 'Y_Coordinate',\n",
    "                     'Year', 'Latitude', 'Longitude', 'Location', 'Historical_Wards',\n",
    "                     'Zip Codes', 'Community_Areas', 'Census_Tracts', 'Wards', 'Boundaries_ZIP',\n",
    "                     'Police_Dist', 'Police_Beats']\n",
    "print(data['Primary_Type'].value_counts())\n",
    "\n"
   ]
  },
  {
   "cell_type": "markdown",
   "metadata": {},
   "source": [
    "The code above is part of the \"eda.py\" program. This program limits the crime data (\"Crimes_-_2001_to_present.csv\") to just a random 20% sample of the origional rows. Working with any larger of a sample resulted in memory issues. \n",
    "The next step was to get a sense of the types of crimes contained in these data. By looking at the \"Primary Type\" column I could see a standardized description of the type of crime each observation in the data represents. The data contain a wide array of offenses. To build a model that could predict every type of crime would require a large number of different features. Thus, I felt it was appropriate to limit this exercise to just looking at one type of crime. I chose Burglary since it is a common offense in Chicago, and I felt I could develop an appropriate set of model features for predicting this type of crime."
   ]
  },
  {
   "cell_type": "markdown",
   "metadata": {},
   "source": [
    "## Features to Predict Burglary:"
   ]
  },
  {
   "cell_type": "code",
   "execution_count": null,
   "metadata": {},
   "outputs": [],
   "source": []
  }
 ],
 "metadata": {
  "kernelspec": {
   "display_name": "Python 3",
   "language": "python",
   "name": "python3"
  },
  "language_info": {
   "codemirror_mode": {
    "name": "ipython",
    "version": 3
   },
   "file_extension": ".py",
   "mimetype": "text/x-python",
   "name": "python",
   "nbconvert_exporter": "python",
   "pygments_lexer": "ipython3",
   "version": "3.6.5"
  }
 },
 "nbformat": 4,
 "nbformat_minor": 2
}
